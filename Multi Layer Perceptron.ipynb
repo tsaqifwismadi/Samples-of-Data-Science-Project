{
 "cells": [
  {
   "cell_type": "code",
   "execution_count": 17,
   "metadata": {},
   "outputs": [],
   "source": [
    "import numpy as np\n",
    "import matplotlib.pyplot as plt\n",
    "from sklearn import cluster\n",
    "import pandas as pd\n",
    "import geopandas as gpd\n",
    "from numpy  import array\n",
    "from sklearn.model_selection import train_test_split\n",
    "from sklearn.preprocessing import StandardScaler\n",
    "from sklearn.neural_network import MLPClassifier\n",
    "from sklearn.metrics import confusion_matrix, accuracy_score"
   ]
  },
  {
   "cell_type": "code",
   "execution_count": 18,
   "metadata": {},
   "outputs": [
    {
     "name": "stdout",
     "output_type": "stream",
     "text": [
      "[[27.33 42.9  11.12 34.46  1.  ]\n",
      " [31.16 54.7   8.32 38.65  1.  ]\n",
      " [28.54 47.5  12.56 34.84  1.  ]\n",
      " [24.62 26.2  17.47 32.43  0.  ]\n",
      " [19.43 26.9  18.25 21.87  0.  ]\n",
      " [33.38 26.3  15.39 46.74  0.  ]\n",
      " [22.45 32.   30.   15.96  1.  ]\n",
      " [27.34 21.7  20.58 37.23  0.  ]\n",
      " [19.18 16.2  30.48 20.32  0.  ]\n",
      " [35.66 37.1  12.32 49.41  0.  ]\n",
      " [42.24 45.   12.13 58.68  1.  ]\n",
      " [38.03 46.6  19.26 50.49  1.  ]\n",
      " [41.72 43.6  11.88 58.11  1.  ]\n",
      " [35.7  44.   22.15 46.4   1.  ]\n",
      " [44.75 43.6   9.58 62.96  1.  ]\n",
      " [36.35 44.4  20.39 47.9   1.  ]\n",
      " [43.86 37.7  11.01 62.    0.  ]\n",
      " [37.95 36.3  35.52 48.92  1.  ]\n",
      " [40.09 39.6   3.96 56.75  0.  ]\n",
      " [28.44 25.1  21.55 38.21  0.  ]\n",
      " [36.37 37.2   4.62 51.31  0.  ]\n",
      " [46.43 39.7   4.87 66.11  0.  ]\n",
      " [24.8  42.   15.77 27.77  1.  ]\n",
      " [33.03 45.5  31.43 36.91  2.  ]\n",
      " [27.57 44.9  18.27 31.41  1.  ]\n",
      " [25.32 31.5   3.08 35.09  0.  ]\n",
      " [33.64 47.4  32.41 36.84  2.  ]\n",
      " [26.52 29.4   3.58 37.12  0.  ]\n",
      " [33.01 63.4  22.29 30.64  2.  ]\n",
      " [26.96 46.1  22.   26.54  1.  ]\n",
      " [21.82 24.2   5.49 30.08  0.  ]\n",
      " [33.66 56.9  28.35 33.09  2.  ]\n",
      " [26.42 38.5   9.46 34.28  0.  ]\n",
      " [29.47 33.6  21.83 38.02  1.  ]\n",
      " [35.6  56.7  17.29 43.86  2.  ]\n",
      " [38.34 33.4   3.97 54.56  0.  ]\n",
      " [42.62 39.7  10.27 60.04  0.  ]\n",
      " [32.48 47.6  11.18 42.49  1.  ]\n",
      " [29.74 30.   22.07 39.3   1.  ]\n",
      " [39.58 59.2  31.57 45.15  2.  ]\n",
      " [35.8  48.6  29.22 42.74  2.  ]\n",
      " [33.06 47.8  17.39 41.8   1.  ]\n",
      " [26.6  31.7   3.32 36.96  0.  ]\n",
      " [46.68 59.2  44.31 54.92  2.  ]\n",
      " [45.32 63.2  32.91 54.97  2.  ]\n",
      " [43.28 50.8  31.53 55.48  2.  ]\n",
      " [43.57 57.6  36.45 52.32  2.  ]\n",
      " [29.49 31.4   6.1  41.14  0.  ]\n",
      " [32.1  44.8   4.87 43.69  0.  ]\n",
      " [32.3  50.6   2.14 43.46  1.  ]\n",
      " [41.35 45.6  48.12 47.7   2.  ]\n",
      " [44.2  51.3  43.91 53.08  2.  ]\n",
      " [36.36 57.9  37.26 33.    2.  ]\n",
      " [44.56 54.1  35.16 55.78  2.  ]\n",
      " [49.26 65.7  30.05 62.78  2.  ]\n",
      " [42.09 54.1  19.96 55.57  2.  ]\n",
      " [45.2  54.1  41.99 54.7   2.  ]\n",
      " [45.22 50.2  24.68 60.75  2.  ]\n",
      " [34.92 39.3  44.72 37.59  2.  ]\n",
      " [33.93 48.4  20.87 41.99  1.  ]\n",
      " [38.57 51.3  23.03 49.26  2.  ]\n",
      " [39.02 51.3  26.41 49.19  2.  ]\n",
      " [40.57 54.1  42.19 44.5   2.  ]\n",
      " [33.58 31.3  37.16 41.83  1.  ]\n",
      " [16.5  22.9   7.55 21.43  0.  ]\n",
      " [26.98 32.2  11.68 36.38  0.  ]\n",
      " [25.52 54.7   2.42 29.18  1.  ]\n",
      " [25.31 39.1  17.2  29.63  1.  ]\n",
      " [29.75 47.3  24.76 31.68  1.  ]\n",
      " [38.26 48.7   4.82 52.9   1.  ]\n",
      " [27.37 31.   23.48 34.43  1.  ]\n",
      " [27.42 43.3  11.42 34.42  1.  ]\n",
      " [27.99 38.9  13.11 36.25  1.  ]\n",
      " [25.23 35.9  20.93 29.18  1.  ]\n",
      " [26.15 37.7   2.5  35.61  0.  ]]\n"
     ]
    }
   ],
   "source": [
    "# It is time now for classification with Multilayer Perceptron\n",
    "df = gpd.read_file(\"/data/shared/Big-Geodata-Processing-2021-1A/distributed_computing_machine_learning/Data/Nepal/nepal_dev.shp\")\n",
    "\n",
    "df_mp = pd.DataFrame(df)\n",
    "df_mp = df_mp[['povindex', 'malkids','nosafh20', 'ad_illit','depr_class']].values\n",
    "\n",
    "print(df_mp)"
   ]
  },
  {
   "cell_type": "code",
   "execution_count": 19,
   "metadata": {},
   "outputs": [
    {
     "name": "stdout",
     "output_type": "stream",
     "text": [
      "(75, 4) (75,)\n",
      "(52, 4) (23, 4)\n",
      "(52,) (23,)\n"
     ]
    }
   ],
   "source": [
    "# Define, target, features, train and test datasets\n",
    "Y = df_mp[:,-1]\n",
    "X = df_mp[:,:-1]\n",
    "\n",
    "# print(X)\n",
    "# print(Y)\n",
    "xtrain, xtest, ytrain, ytest = train_test_split(X, Y, test_size = 0.3, \n",
    "                                                random_state = 42)\n",
    "\n",
    "print(X.shape, Y.shape)\n",
    "print(xtrain.shape, xtest.shape)\n",
    "print(ytrain.shape, ytest.shape)\n"
   ]
  },
  {
   "cell_type": "code",
   "execution_count": 20,
   "metadata": {},
   "outputs": [
    {
     "name": "stdout",
     "output_type": "stream",
     "text": [
      "[[ 1.5030147   1.87380571  0.92477386  1.15599082]\n",
      " [ 1.23675806  0.73105538  0.81187338  1.20177332]\n",
      " [-1.56415734 -1.72032839 -1.31850956 -1.07837464]\n",
      " [-0.84369821 -1.9507216  -0.08396737 -0.43652197]\n",
      " [ 0.14562792 -0.32875339  1.89097288 -0.40420491]\n",
      " [-0.56308459 -1.05679594 -1.26860428 -0.08552281]\n",
      " [-0.01882471  1.29321482  0.55171141 -0.80816813]\n",
      " [ 1.40382105  1.03517442  1.10885073  1.2287042 ]\n",
      " [ 0.9848584   0.2518375   2.16913348  0.50336579]\n",
      " [-0.70012845 -1.63738683 -0.00460979 -0.34854775]\n",
      " [ 0.88305439  1.03517442  1.68398867  0.21610306]\n",
      " [-1.10734448 -1.04758021 -1.51567634 -0.62862892]\n",
      " [-0.99901458 -0.47620505 -1.56312726 -0.58194872]\n",
      " [ 0.24743193  0.10438585  0.04447738  0.38666531]\n",
      " [ 2.01725545  2.10419892  0.69079171  1.85709143]\n",
      " [-1.19870705 -1.53601382 -0.33840251 -0.86741607]\n",
      " [ 0.54109734 -0.60522524  1.13830303  0.61288471]\n",
      " [-0.5304551  -1.18581614  0.03793242 -0.25069888]\n",
      " [-1.90872475 -2.45758667  0.72597084 -1.95452598]\n",
      " [-0.75886153 -0.3656163  -0.69510257 -0.52449618]\n",
      " [-1.48193103 -1.00150157  0.68670111 -2.34592145]\n",
      " [ 1.15061621 -0.29189048 -0.92744848  1.61112271]\n",
      " [-0.52914993  0.40850489  0.25800654 -0.93474327]\n",
      " [ 1.08144169  1.03517442 -0.13469077  1.20985258]\n",
      " [ 1.27460827  1.35772492  1.21438813  0.91810137]\n",
      " [-1.1190911  -0.64208816 -0.05533319 -1.15916728]\n",
      " [ 0.3322686   0.14124876 -0.09951164  0.52131971]\n",
      " [-0.95072293 -1.24111051 -1.47477037 -0.44639662]\n",
      " [-0.09713548  0.45458353 -0.34494746 -0.02627487]\n",
      " [-0.02143506  0.41772062  0.88386789 -0.47153211]\n",
      " [-0.22243272  0.17811168 -1.36923296  0.14338968]\n",
      " [-0.81367908  0.1873274  -0.27295295 -0.95898106]\n",
      " [ 1.68051912  1.50517657  1.85742999  1.15150234]\n",
      " [-1.10864966 -0.34718485 -0.36049173 -1.11877096]\n",
      " [ 1.4899629   0.67576101  0.25146159  1.67485913]\n",
      " [ 0.55153878  0.34399479 -0.19195913  0.75382299]\n",
      " [-0.96377473 -0.40247922 -0.99371615 -0.7013423 ]\n",
      " [-0.83978267 -1.09365885  0.15328726 -0.68787686]\n",
      " [ 0.01641514  0.5098779  -0.06024191 -0.00921865]\n",
      " [-0.89068467 -0.98307011 -0.81209365 -0.51282613]\n",
      " [-0.1728359   0.43615207 -0.85299962  0.03566615]\n",
      " [-0.89329503  0.29791615  0.03220559 -1.39615904]\n",
      " [-0.3451196   1.09046879 -1.08698177 -0.30904913]\n",
      " [ 0.33357378  1.3853721   1.2806558  -0.81624739]\n",
      " [ 1.64788963 -0.29189048 -1.36923296  2.15602421]\n",
      " [-0.68707666  0.42693634 -0.74009914 -0.65107132]\n",
      " [-0.10105102  0.24262177  0.80369219 -0.46524824]\n",
      " [ 0.33487896 -0.52228369 -1.38968595  0.82743407]\n",
      " [ 0.62201847  0.77713403  0.11647188  0.64340638]\n",
      " [-0.83325677  0.03987575 -0.83336475 -0.68877455]\n",
      " [ 1.42861946  0.06752293 -0.98389872  1.87324996]\n",
      " [ 1.35683458  0.77713403  1.82470521  0.98632627]]\n",
      "[[-1.87609526 -1.47150372 -0.27458919 -1.81538309]\n",
      " [-0.02926614 -1.06601167  1.27247461 -0.02358178]\n",
      " [ 1.10101938  0.19654313 -0.77527827  1.48903605]\n",
      " [-0.84500339  0.00301283 -0.85790833 -0.68518377]\n",
      " [ 0.59199934 -0.87248137 -1.44286371  1.11918528]\n",
      " [ 0.68075155  0.77713403  0.39299624  0.6371225 ]\n",
      " [-0.10366138  1.89223717  0.05593105 -1.02810366]\n",
      " [ 1.03315004  0.06752293 -0.79573126  1.43786738]\n",
      " [ 0.58155791  0.53752509 -1.37332356  0.97016774]\n",
      " [-2.25851288 -1.84013286 -1.14997696 -1.85488172]\n",
      " [ 0.23438013  1.27478336 -0.35312866  0.15865051]\n",
      " [-0.9402815  -1.02914875 -1.49604147 -0.46075976]\n",
      " [-0.19632913  0.71262393 -1.59257956  0.12274267]\n",
      " [ 0.82040577 -0.30110621 -1.44368183  1.31578071]\n",
      " [ 0.24221121 -0.53149942 -0.759734    0.65687182]\n",
      " [-1.17521382 -0.07992872 -0.47748281 -1.28574242]\n",
      " [-0.05536973 -1.52679809 -0.50857134  0.41718697]\n",
      " [-0.56569495 -0.85404991  0.01829756 -0.36560398]\n",
      " [ 1.48735254  1.03517442  1.66762628  1.13175303]\n",
      " [-1.08124089  1.09046879 -1.56967222 -1.15916728]\n",
      " [ 0.75384161  1.50517657  0.81514586  0.2744533 ]\n",
      " [ 0.26048373  0.52830936  0.6228878   0.05810856]\n",
      " [ 1.31245848 -0.47620505 -0.86690765  1.78707114]]\n"
     ]
    }
   ],
   "source": [
    "# Scale the data\n",
    "scaler = StandardScaler()\n",
    "scaler.fit(xtrain)\n",
    "X_train = scaler.transform(xtrain)\n",
    "X_test = scaler.transform(xtest)\n",
    "\n",
    "print(X_train)\n",
    "print(X_test)"
   ]
  },
  {
   "cell_type": "code",
   "execution_count": 21,
   "metadata": {},
   "outputs": [
    {
     "name": "stdout",
     "output_type": "stream",
     "text": [
      "[0. 2. 1. 1. 0. 2. 1. 1. 0. 0. 1. 0. 0. 0. 0. 1. 0. 1. 2. 1. 2. 2. 0.]\n",
      "[0. 1. 1. 1. 0. 2. 2. 1. 1. 0. 2. 0. 1. 0. 0. 1. 0. 1. 2. 1. 2. 2. 0.]\n"
     ]
    }
   ],
   "source": [
    "# Classify\n",
    "clf = MLPClassifier(solver = 'lbfgs',\n",
    "                    alpha = 1e-5,\n",
    "                    hidden_layer_sizes = (5,2),\n",
    "                    random_state = 1)\n",
    "\n",
    "clf.fit(X_train, ytrain)\n",
    "\n",
    "Pred_mp = clf.predict(X_test)\n",
    "print(Pred_mp)\n",
    "print(ytest)"
   ]
  },
  {
   "cell_type": "code",
   "execution_count": 22,
   "metadata": {},
   "outputs": [
    {
     "name": "stdout",
     "output_type": "stream",
     "text": [
      "Classification accuracy of multilayer perceptron is 0.782608695652174\n"
     ]
    },
    {
     "data": {
      "image/png": "[encoded data removed]",
      "text/plain": [
       "<Figure size 432x288 with 1 Axes>"
      ]
     },
     "metadata": {
      "needs_background": "light"
     },
     "output_type": "display_data"
    }
   ],
   "source": [
    "# Ready to calculate accuracy score and confusion matrix\n",
    "pa_mp = accuracy_score(ytest, Pred_mp, normalize = False)\n",
    "print(\"Classification accuracy of multilayer perceptron is\", pa_mp/len(ytest))\n",
    "\n",
    "cm = confusion_matrix(ytest, Pred_mp)\n",
    "\n",
    "plt.imshow(cm,interpolation = 'none',\n",
    "           cmap = 'Blues')\n",
    "\n",
    "for (i, j), z in np.ndenumerate(cm):\n",
    "    plt.text(j, i, z, ha = 'center', \n",
    "             va = 'center')\n",
    "    \n",
    "plt.title('Confusion matrix: multilayer perceptron')\n",
    "plt.xlabel(\"Predicted label\")\n",
    "plt.ylabel(\"True label\")\n",
    "plt.show()"
   ]
  },
  {
   "cell_type": "code",
   "execution_count": null,
   "metadata": {},
   "outputs": [],
   "source": []
  }
 ],
 "metadata": {
  "kernelspec": {
   "display_name": "Python",
   "language": "python",
   "name": "python3"
  },
  "language_info": {
   "codemirror_mode": {
    "name": "ipython",
    "version": 3
   },
   "file_extension": ".py",
   "mimetype": "text/x-python",
   "name": "python",
   "nbconvert_exporter": "python",
   "pygments_lexer": "ipython3",
   "version": "3.8.10"
  }
 },
 "nbformat": 4,
 "nbformat_minor": 4
}
